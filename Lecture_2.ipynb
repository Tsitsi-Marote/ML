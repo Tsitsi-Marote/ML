{
 "cells": [
  {
   "cell_type": "markdown",
   "metadata": {},
   "source": [
    "$h(x)=\\frac{1}{1+e^{-ax}}$"
   ]
  },
  {
   "cell_type": "code",
   "execution_count": 1,
   "metadata": {
    "collapsed": true
   },
   "outputs": [],
   "source": [
    "import numpy as np\n",
    "import matplotlib.pyplot as pl\n",
    "%matplotlib inline"
   ]
  },
  {
   "cell_type": "code",
   "execution_count": 80,
   "metadata": {
    "collapsed": true
   },
   "outputs": [],
   "source": [
    "def h(x,theta, a=1.0):\n",
    "    v = np.dot(x,theta)\n",
    "    return 1.0/(1+ np.exp(-a*v))"
   ]
  },
  {
   "cell_type": "code",
   "execution_count": 81,
   "metadata": {},
   "outputs": [],
   "source": [
    "#x = np.linspace(-10.0,10.0,100)\n",
    "#y = h(x,10)\n",
    "#y1 = h(x,1)\n",
    "#pl.figure('Logistic function')\n",
    "#pl.plot(x,y,linewidth=2.0, c='r',label = r'$a=10.0$')\n",
    "#pl.plot(x,y1,linewidth=2.0, label = r'$a=1.0$' )\n",
    "#pl.xlabel(r\"$x$\", fontsize=22)\n",
    "#pl.ylabel(r\"$h(x)=\\frac{1}{1+e^{-ax}}$\",fontsize=22)\n",
    "#pl.grid('on')\n",
    "#pl.legend()"
   ]
  },
  {
   "cell_type": "code",
   "execution_count": 149,
   "metadata": {},
   "outputs": [],
   "source": [
    "x_train = np.array([[1.0,0,0,0],\n",
    "                    [1,0,0,1],\n",
    "                    [1,0,1,0],\n",
    "                    [1,0,1,1],\n",
    "                    [1,1,0,0],\n",
    "                    [1,1,0,1],\n",
    "                    [1,1,1,0],\n",
    "                    [1,1,1,1]])\n",
    "type(x_train)\n",
    "x_train.dtype\n",
    "y_train = np.array([[0.0],[0.0],[0.0],[0.0],[0.0],[0.0],[0.0],[1]])\n",
    "theta = np.array([[-1.0],[0.0],[0.0],[0.0]])\n",
    "y = h(x_train,theta,a=1)\n",
    "\n",
    "#array broadcasting\n",
    "#f = np.array([2.0,2.5,3.0])\n",
    "#s =x_train*f\n",
    "#s\n",
    "#print(x_train)\n",
    "#print(y_train)\n",
    "#print(theta)"
   ]
  },
  {
   "cell_type": "code",
   "execution_count": 161,
   "metadata": {},
   "outputs": [],
   "source": [
    "def learn(x,y,theta,alpha=0.1):\n",
    "    t=1\n",
    "    while True:\n",
    "        y1 = h(x,theta,a=1)\n",
    "        e = y1-y\n",
    "      \n",
    "        #print(np.mean(abs(e)))\n",
    "        o = x*e\n",
    "#direction of calculation x(axis = 0) or y(axis = 1) axis\n",
    "        p = np.mean(o,axis=0)\n",
    "        theta_prev = theta.copy()\n",
    "        theta = theta-alpha*p[:,np.newaxis] #creates a column axis for p\n",
    "        if(np.max(np.abs(theta-theta_prev))< 1e-6):\n",
    "            break;\n",
    "        #print(\"iteration #: {:d}, mean absolute error: {:.8f}\".format(t,np.mean(abs(e))))\n",
    "        #alpha = 1/(t+1)\n",
    "        alpha = alpha*0.999\n",
    "        #alpha = alpha*np.mean(abs(e))\n",
    "        #alpha = alpha*1.01\n",
    "        t=t+1\n",
    "    return(theta)\n",
    "#why alhpa must be between 0 and 1"
   ]
  },
  {
   "cell_type": "code",
   "execution_count": 162,
   "metadata": {},
   "outputs": [
    {
     "name": "stdout",
     "output_type": "stream",
     "text": [
      "[[ 0.]\n",
      " [ 0.]\n",
      " [ 0.]\n",
      " [ 0.]\n",
      " [ 0.]\n",
      " [ 0.]\n",
      " [ 0.]\n",
      " [ 1.]]\n"
     ]
    }
   ],
   "source": [
    "theta_learn = learn(x_train,y_train, theta,0.9)\n",
    "print(np.ndarray.round(h(x_train,theta_learn)))"
   ]
  },
  {
   "cell_type": "code",
   "execution_count": null,
   "metadata": {
    "collapsed": true
   },
   "outputs": [],
   "source": []
  }
 ],
 "metadata": {
  "kernelspec": {
   "display_name": "Python 3",
   "language": "python",
   "name": "python3"
  },
  "language_info": {
   "codemirror_mode": {
    "name": "ipython",
    "version": 3
   },
   "file_extension": ".py",
   "mimetype": "text/x-python",
   "name": "python",
   "nbconvert_exporter": "python",
   "pygments_lexer": "ipython3",
   "version": "3.6.4"
  }
 },
 "nbformat": 4,
 "nbformat_minor": 2
}
