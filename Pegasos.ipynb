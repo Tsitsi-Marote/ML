{
 "cells": [
  {
   "cell_type": "code",
   "execution_count": 60,
   "metadata": {},
   "outputs": [],
   "source": [
    "import numpy as np\n",
    "\n",
    "def loadData(path):\n",
    "    x_training = np.zeros((40, 3), dtype=np.float)\n",
    "    y_training = np.zeros((40, 1), dtype=np.float)\n",
    "    k = 0\n",
    "    f = open(path,'r')\n",
    "    for line in f:\n",
    "        if line!='\\n':\n",
    "            l=(np.array(line.split(','))).astype(float)\n",
    "            x_training[k,:] = l[0:len(l)-1]            \n",
    "            y_training[k,:] = l[len(l)-1]\n",
    "            k=k+1\n",
    "    return x_training,y_training"
   ]
  },
  {
   "cell_type": "code",
   "execution_count": 61,
   "metadata": {},
   "outputs": [],
   "source": [
    "def Pegasos(lamda,iterations,weights,x_testing,y_testing):\n",
    "\n",
    "    for t in range(0,iterations):\n",
    "        mew=1/(lamda)\n",
    "        b=1\n",
    "        if(y_testing[t] * (np.dot(weights,x_testing[t]) +b) <1):\n",
    "            weights = (1- mew*lamda )*weights + mew*y_testing[t]*x_testing[t]\n",
    "        else :\n",
    "            weights = (1 - mew*lamda)*weights\n",
    "        print weights\n",
    "    return weights"
   ]
  },
  {
   "cell_type": "code",
   "execution_count": 62,
   "metadata": {},
   "outputs": [],
   "source": [
    "def Kpegasos(x_training,y_training,lamda):\n",
    "    T=len(y_training)\n",
    "    alpha=np.zeros(T)\n",
    "    for t in range(0,T):\n",
    "        newAlpha=alpha.copy()\n",
    "        i=np.random.randint(T)\n",
    "        for j in range(0,T):\n",
    "            if j is not i:\n",
    "                newAlpha[j]=alpha[j]\n",
    "            if y_training[i]*1/lamda*np.sum(alpha[j]*y_training[i]*np.dot(x_training[i],x_training[j]))<1:\n",
    "                newAlpha[i]=alpha[i]+1\n",
    "            else:\n",
    "                newAlpha[i]=alpha[i]\n",
    "        print newAlpha\n",
    "        alpha=newAlpha\n",
    "    return alpha"
   ]
  },
  {
   "cell_type": "code",
   "execution_count": null,
   "metadata": {},
   "outputs": [],
   "source": [
    "\n",
    "    "
   ]
  },
  {
   "cell_type": "code",
   "execution_count": 63,
   "metadata": {},
   "outputs": [],
   "source": [
    "#Running data here\n",
    "path='data/training.in'\n",
    "x_training,y_training=loadData(path)\n",
    "# Pegasos(0.5,30,np.ones(3).T,x_training,y_training)\n",
    "# Kpegasos(x_training,y_training,1)"
   ]
  }
 ],
 "metadata": {
  "kernelspec": {
   "display_name": "Python 2",
   "language": "python",
   "name": "python2"
  },
  "language_info": {
   "codemirror_mode": {
    "name": "ipython",
    "version": 2
   },
   "file_extension": ".py",
   "mimetype": "text/x-python",
   "name": "python",
   "nbconvert_exporter": "python",
   "pygments_lexer": "ipython2",
   "version": "2.7.12"
  }
 },
 "nbformat": 4,
 "nbformat_minor": 2
}
